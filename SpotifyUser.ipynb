{
 "cells": [
  {
   "cell_type": "code",
   "execution_count": 1,
   "id": "45380317",
   "metadata": {},
   "outputs": [],
   "source": [
    "import requests"
   ]
  },
  {
   "cell_type": "code",
   "execution_count": 2,
   "id": "15e2481a",
   "metadata": {},
   "outputs": [
    {
     "name": "stdout",
     "output_type": "stream",
     "text": [
      "200\n",
      "[{'recommended_track_id': '65881628607f42a86bb73a5c', 'track_name': 'Comedy'}, {'recommended_track_id': '65881628607f42a86bb73a61', 'track_name': 'Comedy'}, {'recommended_track_id': '65881628607f42a86bb73a63', 'track_name': 'Comedy'}, {'recommended_track_id': '65881628607f42a86bb73a64', 'track_name': 'Comedy'}, {'recommended_track_id': '65881628607f42a86bb73a6e', 'track_name': 'Comedy'}]\n"
     ]
    }
   ],
   "source": [
    "# Replace with the actual URL where your Flask app is running\n",
    "#api_url = 'http://localhost:5000/recommendations'\n",
    "api_url = 'http://127.0.0.1:5000/recommendations'\n",
    "\n",
    "# Example payload for the POST request\n",
    "payload = {'user_preference': 'Comedy'}\n",
    "\n",
    "# Make a POST request to the API\n",
    "response = requests.post(api_url, json=payload)\n",
    "\n",
    "# Print the response from the API\n",
    "print(response.status_code)\n",
    "print(response.json())\n"
   ]
  },
  {
   "cell_type": "markdown",
   "id": "47cca5b8",
   "metadata": {},
   "source": [
    "<strong>In above user requested for Comedy track, so recommended first 5 comedy tracks based on danceability, energy, valence</strong>"
   ]
  },
  {
   "cell_type": "markdown",
   "id": "90537070",
   "metadata": {},
   "source": [
    "<strong>Below, user ignored Recommended tracks and choose Lucky track</strong>"
   ]
  },
  {
   "cell_type": "code",
   "execution_count": 3,
   "id": "b9eee2f0",
   "metadata": {},
   "outputs": [
    {
     "name": "stdout",
     "output_type": "stream",
     "text": [
      "200\n",
      "[{'recommended_track_id': '65881628607f42a86bb73a5c', 'track_name': 'Lucky'}, {'recommended_track_id': '65881628607f42a86bb73a61', 'track_name': 'Lucky'}, {'recommended_track_id': '65881628607f42a86bb73a63', 'track_name': 'Lucky'}, {'recommended_track_id': '65881628607f42a86bb73a64', 'track_name': 'Lucky'}, {'recommended_track_id': '65881628607f42a86bb73a6e', 'track_name': 'Lucky'}]\n"
     ]
    }
   ],
   "source": [
    "payload = {'user_preference': 'Lucky'}\n",
    "\n",
    "# Make a POST request to the API\n",
    "response = requests.post(api_url, json=payload)\n",
    "\n",
    "# Print the response from the API\n",
    "print(response.status_code)\n",
    "print(response.json())\n"
   ]
  },
  {
   "cell_type": "code",
   "execution_count": null,
   "id": "876da987",
   "metadata": {},
   "outputs": [],
   "source": []
  }
 ],
 "metadata": {
  "kernelspec": {
   "display_name": "Python 3 (ipykernel)",
   "language": "python",
   "name": "python3"
  },
  "language_info": {
   "codemirror_mode": {
    "name": "ipython",
    "version": 3
   },
   "file_extension": ".py",
   "mimetype": "text/x-python",
   "name": "python",
   "nbconvert_exporter": "python",
   "pygments_lexer": "ipython3",
   "version": "3.9.12"
  }
 },
 "nbformat": 4,
 "nbformat_minor": 5
}
